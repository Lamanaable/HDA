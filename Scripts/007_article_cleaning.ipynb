{
 "cells": [
  {
   "cell_type": "code",
   "execution_count": 26,
   "id": "1a9ad672",
   "metadata": {},
   "outputs": [
    {
     "name": "stderr",
     "output_type": "stream",
     "text": [
      "[nltk_data] Downloading package stopwords to\n",
      "[nltk_data]     /home/ec2-user/nltk_data...\n",
      "[nltk_data]   Package stopwords is already up-to-date!\n",
      "[nltk_data] Downloading package punkt to /home/ec2-user/nltk_data...\n",
      "[nltk_data]   Package punkt is already up-to-date!\n",
      "[nltk_data] Downloading package averaged_perceptron_tagger to\n",
      "[nltk_data]     /home/ec2-user/nltk_data...\n",
      "[nltk_data]   Package averaged_perceptron_tagger is already up-to-\n",
      "[nltk_data]       date!\n",
      "[nltk_data] Downloading package wordnet to /home/ec2-user/nltk_data...\n",
      "[nltk_data]   Package wordnet is already up-to-date!\n"
     ]
    }
   ],
   "source": [
    "import re\n",
    "import nltk\n",
    "import pandas as pd\n",
    "import numpy as np\n",
    "import os\n",
    "import string\n",
    "\n",
    "nltk.download('stopwords')\n",
    "nltk.download('punkt')\n",
    "nltk.download('averaged_perceptron_tagger')\n",
    "nltk.download('wordnet')\n",
    "\n",
    "import warnings\n",
    "warnings.filterwarnings('ignore')\n",
    "\n",
    "pd.options.display.max_colwidth = 50"
   ]
  },
  {
   "cell_type": "code",
   "execution_count": 27,
   "id": "5932bc66",
   "metadata": {},
   "outputs": [],
   "source": [
    "def clean(text):\n",
    "    \"\"\" Removes from the input text:\n",
    "        - html tags, \n",
    "        - punctuations, \n",
    "        - stop words,\n",
    "        - words of less than 3 characters\n",
    "        - all words that are not a noun, an adjective, or a verb.\n",
    "\n",
    "    Arguments:\n",
    "        text (str) :\n",
    "            The text to be cleaned\n",
    "\n",
    "    Raises:\n",
    "        TypeError: if input parameters are not of the expected type\n",
    "\n",
    "    Returns:\n",
    "        text (str) :\n",
    "            The cleaned text (lowercased)\n",
    "    \"\"\"\n",
    "    \n",
    "    if not isinstance(text, str):\n",
    "        raise TypeError(\"Argument 'text' must be a string.\")\n",
    "    \n",
    "    # Strip the text, lowercase it, and remove the HTML tags and punctuations\n",
    "    text = text.lower().strip()\n",
    "    text = re.sub(r'http\\S+', '', text)\n",
    "    text = re.sub(r'<.*?>', '', text)\n",
    "    text = re.sub(r'[^ 0-9a-z]', ' ', text)\n",
    "    text = re.sub(r'\\b(\\d+\\d)\\b', '', text)\n",
    "    text = re.sub(r'http|https|www', '', text)\n",
    "    text = re.sub(r'\\b[a-z]\\b', '', text)\n",
    "    text = re.sub(r' +', ' ', text)\n",
    "    text = text.translate(text.maketrans('', '', string.punctuation)) #extra punctuations removal\n",
    "\n",
    "    # Remove all the stop words\n",
    "    stop_words = nltk.corpus.stopwords.words('english')\n",
    "    stop_words.extend([\n",
    "        'from', 're', 'also'\n",
    "    ])\n",
    "    stop_words = {key: True for key in set(stop_words)}\n",
    "    \n",
    "    # Keep only specific pos (part of speech: nouns, adjectives, and adverbs)\n",
    "    keep_pos = {key: True for key in ['NN','NNS','NNP','NNPS', 'JJ', 'JJR', 'JJS','RB','RBR','RBS']}\n",
    "    \n",
    "    return \" \".join([word \n",
    "                     for word, pos in nltk.tag.pos_tag(text.split()) \n",
    "                     if len(word) > 2 and word not in stop_words and pos in keep_pos])"
   ]
  },
  {
   "cell_type": "code",
   "execution_count": 28,
   "id": "066a86f1",
   "metadata": {},
   "outputs": [],
   "source": [
    "def lemmatize(text: str, lemmatizer: nltk.stem.WordNetLemmatizer) -> str:\n",
    "    \"\"\" Lemmatize the words in a sentence by:\n",
    "        - mapping the POS tag to each word,\n",
    "        - lemmatize the word.\n",
    "\n",
    "    Arguments:\n",
    "        sentence (str):\n",
    "            The sentence in which the words need to be lemmatized\n",
    "        lemmatizer:\n",
    "            Lemmatizer function\n",
    "\n",
    "   Raises:\n",
    "        TypeError: if input parameters are not of the expected type\n",
    "\n",
    "    Returns:\n",
    "        Lemmatized text\n",
    "    ----------------------------------------------------------------------------------------\n",
    "    \"\"\"\n",
    "    \n",
    "    if not isinstance(text, str):\n",
    "        raise TypeError(\"Argument 'text' must be a string.\")\n",
    "\n",
    "    lemmas = []\n",
    "    tag_dict = {\n",
    "        \"J\": nltk.corpus.wordnet.ADJ,\n",
    "        \"N\": nltk.corpus.wordnet.NOUN,\n",
    "        \"V\": nltk.corpus.wordnet.VERB,\n",
    "        \"R\": nltk.corpus.wordnet.ADV\n",
    "    }\n",
    "    \n",
    "    tokenized_words = nltk.word_tokenize(text)\n",
    "    for tokenized_word in tokenized_words:\n",
    "        tag = nltk.tag.pos_tag([tokenized_word])[0][1][0].upper() # Map POS tag to first character lemmatize() accepts\n",
    "        wordnet_pos = tag_dict.get(tag, nltk.corpus.wordnet.NOUN)\n",
    "        lemma = lemmatizer.lemmatize(tokenized_word, wordnet_pos)\n",
    "        lemmas.append(lemma)\n",
    "    \n",
    "    return \" \".join(lemmas)"
   ]
  },
  {
   "cell_type": "code",
   "execution_count": 29,
   "id": "181c3837",
   "metadata": {},
   "outputs": [
    {
     "name": "stdout",
     "output_type": "stream",
     "text": [
      "Number of records: 13515\n"
     ]
    },
    {
     "data": {
      "text/html": [
       "<div>\n",
       "<style scoped>\n",
       "    .dataframe tbody tr th:only-of-type {\n",
       "        vertical-align: middle;\n",
       "    }\n",
       "\n",
       "    .dataframe tbody tr th {\n",
       "        vertical-align: top;\n",
       "    }\n",
       "\n",
       "    .dataframe thead th {\n",
       "        text-align: right;\n",
       "    }\n",
       "</style>\n",
       "<table border=\"1\" class=\"dataframe\">\n",
       "  <thead>\n",
       "    <tr style=\"text-align: right;\">\n",
       "      <th></th>\n",
       "      <th>Unnamed: 0</th>\n",
       "      <th>article_text</th>\n",
       "      <th>article_date</th>\n",
       "    </tr>\n",
       "  </thead>\n",
       "  <tbody>\n",
       "    <tr>\n",
       "      <th>0</th>\n",
       "      <td>0</td>\n",
       "      <td>A leading Brexiter has claimed to have seen an...</td>\n",
       "      <td>25/10/2018</td>\n",
       "    </tr>\n",
       "    <tr>\n",
       "      <th>1</th>\n",
       "      <td>1</td>\n",
       "      <td>L/Cpl Kat Dixon did not hesitate when asked wh...</td>\n",
       "      <td>25/10/2018</td>\n",
       "    </tr>\n",
       "    <tr>\n",
       "      <th>2</th>\n",
       "      <td>2</td>\n",
       "      <td>He was a master at bluffing his way through po...</td>\n",
       "      <td>25/10/2018</td>\n",
       "    </tr>\n",
       "    <tr>\n",
       "      <th>3</th>\n",
       "      <td>3</td>\n",
       "      <td>The home secretary has apologised to immigrant...</td>\n",
       "      <td>25/10/2018</td>\n",
       "    </tr>\n",
       "    <tr>\n",
       "      <th>4</th>\n",
       "      <td>4</td>\n",
       "      <td>A Chinese journalist has been charged with com...</td>\n",
       "      <td>25/10/2018</td>\n",
       "    </tr>\n",
       "  </tbody>\n",
       "</table>\n",
       "</div>"
      ],
      "text/plain": [
       "   Unnamed: 0                                       article_text article_date\n",
       "0           0  A leading Brexiter has claimed to have seen an...   25/10/2018\n",
       "1           1  L/Cpl Kat Dixon did not hesitate when asked wh...   25/10/2018\n",
       "2           2  He was a master at bluffing his way through po...   25/10/2018\n",
       "3           3  The home secretary has apologised to immigrant...   25/10/2018\n",
       "4           4  A Chinese journalist has been charged with com...   25/10/2018"
      ]
     },
     "execution_count": 29,
     "metadata": {},
     "output_type": "execute_result"
    }
   ],
   "source": [
    "articles = pd.read_csv(\"../Data/articles.csv\")\n",
    "\n",
    "articles = articles.dropna(thresh=3)\n",
    "\n",
    "print(f\"Number of records: {len(articles)}\")\n",
    "\n",
    "articles.head()\n",
    "\n"
   ]
  },
  {
   "cell_type": "code",
   "execution_count": 30,
   "id": "6e07f931",
   "metadata": {},
   "outputs": [],
   "source": [
    "articles[\"n_words\"] = articles[\"article_text\"].apply(lambda text: len(text.split(\" \")))"
   ]
  },
  {
   "cell_type": "code",
   "execution_count": 31,
   "id": "a6a27b4c",
   "metadata": {
    "scrolled": true
   },
   "outputs": [
    {
     "data": {
      "image/png": "[encoded data removed]",
      "text/plain": [
       "<Figure size 1440x720 with 1 Axes>"
      ]
     },
     "metadata": {
      "needs_background": "light"
     },
     "output_type": "display_data"
    }
   ],
   "source": [
    "import matplotlib.pyplot as plt\n",
    "\n",
    "# clean article word count\n",
    "plt.figure(figsize=(20, 10))\n",
    "plt.hist(articles[articles[\"n_words\"] < 150].n_words, bins = 200, color = [\"#bf7cbb\"])\n",
    "plt.gca().set(xlim=(-10, 150), ylabel='Number of articles', xlabel='Number of words')\n",
    "plt.box(False)\n",
    "plt.title('Number of words per article', fontdict=dict(size=24))\n",
    "plt.show()"
   ]
  },
  {
   "cell_type": "code",
   "execution_count": 32,
   "id": "e3e9052f",
   "metadata": {},
   "outputs": [],
   "source": [
    "# Keep only the articles that contain more than 50 words\n",
    "\n",
    "articles = articles[articles[\"n_words\"] > 50]"
   ]
  },
  {
   "cell_type": "code",
   "execution_count": 33,
   "id": "5ce07db8",
   "metadata": {},
   "outputs": [
    {
     "data": {
      "text/html": [
       "<div>\n",
       "<style scoped>\n",
       "    .dataframe tbody tr th:only-of-type {\n",
       "        vertical-align: middle;\n",
       "    }\n",
       "\n",
       "    .dataframe tbody tr th {\n",
       "        vertical-align: top;\n",
       "    }\n",
       "\n",
       "    .dataframe thead th {\n",
       "        text-align: right;\n",
       "    }\n",
       "</style>\n",
       "<table border=\"1\" class=\"dataframe\">\n",
       "  <thead>\n",
       "    <tr style=\"text-align: right;\">\n",
       "      <th></th>\n",
       "      <th>Unnamed: 0</th>\n",
       "      <th>article_text</th>\n",
       "      <th>article_date</th>\n",
       "      <th>n_words</th>\n",
       "      <th>article_clean</th>\n",
       "      <th>n_words_clean</th>\n",
       "    </tr>\n",
       "  </thead>\n",
       "  <tbody>\n",
       "    <tr>\n",
       "      <th>0</th>\n",
       "      <td>0</td>\n",
       "      <td>A leading Brexiter has claimed to have seen an...</td>\n",
       "      <td>25/10/2018</td>\n",
       "      <td>558</td>\n",
       "      <td>brexiter extract draft withdrawal agreement vo...</td>\n",
       "      <td>182</td>\n",
       "    </tr>\n",
       "    <tr>\n",
       "      <th>1</th>\n",
       "      <td>1</td>\n",
       "      <td>L/Cpl Kat Dixon did not hesitate when asked wh...</td>\n",
       "      <td>25/10/2018</td>\n",
       "      <td>562</td>\n",
       "      <td>cpl kat dixon bad thing challenger tank men sm...</td>\n",
       "      <td>173</td>\n",
       "    </tr>\n",
       "    <tr>\n",
       "      <th>2</th>\n",
       "      <td>2</td>\n",
       "      <td>He was a master at bluffing his way through po...</td>\n",
       "      <td>25/10/2018</td>\n",
       "      <td>620</td>\n",
       "      <td>master way police check airport terminal array...</td>\n",
       "      <td>234</td>\n",
       "    </tr>\n",
       "    <tr>\n",
       "      <th>3</th>\n",
       "      <td>3</td>\n",
       "      <td>The home secretary has apologised to immigrant...</td>\n",
       "      <td>25/10/2018</td>\n",
       "      <td>1014</td>\n",
       "      <td>home secretary immigrant afghan national briti...</td>\n",
       "      <td>334</td>\n",
       "    </tr>\n",
       "    <tr>\n",
       "      <th>4</th>\n",
       "      <td>4</td>\n",
       "      <td>A Chinese journalist has been charged with com...</td>\n",
       "      <td>25/10/2018</td>\n",
       "      <td>86</td>\n",
       "      <td>chinese journalist common assault incident con...</td>\n",
       "      <td>33</td>\n",
       "    </tr>\n",
       "  </tbody>\n",
       "</table>\n",
       "</div>"
      ],
      "text/plain": [
       "   Unnamed: 0                                       article_text article_date  \\\n",
       "0           0  A leading Brexiter has claimed to have seen an...   25/10/2018   \n",
       "1           1  L/Cpl Kat Dixon did not hesitate when asked wh...   25/10/2018   \n",
       "2           2  He was a master at bluffing his way through po...   25/10/2018   \n",
       "3           3  The home secretary has apologised to immigrant...   25/10/2018   \n",
       "4           4  A Chinese journalist has been charged with com...   25/10/2018   \n",
       "\n",
       "   n_words                                      article_clean  n_words_clean  \n",
       "0      558  brexiter extract draft withdrawal agreement vo...            182  \n",
       "1      562  cpl kat dixon bad thing challenger tank men sm...            173  \n",
       "2      620  master way police check airport terminal array...            234  \n",
       "3     1014  home secretary immigrant afghan national briti...            334  \n",
       "4       86  chinese journalist common assault incident con...             33  "
      ]
     },
     "execution_count": 33,
     "metadata": {},
     "output_type": "execute_result"
    }
   ],
   "source": [
    "articles[\"article_clean\"] = articles[\"article_text\"].apply(clean)\n",
    "\n",
    "lemmatizer = nltk.stem.WordNetLemmatizer()\n",
    "articles[\"article_clean\"] = articles[\"article_clean\"].apply(lambda x: lemmatize(x, lemmatizer)) \n",
    "\n",
    "articles[\"n_words_clean\"] = articles[\"article_clean\"].apply(lambda x: len(x.split(\" \")))\n",
    "\n",
    "articles.head()\n"
   ]
  },
  {
   "cell_type": "code",
   "execution_count": 34,
   "id": "49ed20ce",
   "metadata": {},
   "outputs": [
    {
     "data": {
      "image/png": "[encoded data removed]",
      "text/plain": [
       "<Figure size 1440x720 with 1 Axes>"
      ]
     },
     "metadata": {
      "needs_background": "light"
     },
     "output_type": "display_data"
    }
   ],
   "source": [
    "import matplotlib.pyplot as plt\n",
    "\n",
    "# clean article word count\n",
    "plt.figure(figsize=(20, 10))\n",
    "plt.hist(articles[articles[\"n_words_clean\"] < 400].n_words_clean, \n",
    "         bins = 200, \n",
    "         color = [\"#bf7cbb\"])\n",
    "plt.xlim((-10, 150))\n",
    "plt.xlabel(\"Article word count\", fontsize=18)\n",
    "plt.ylabel(\"Number of articles\", fontsize=18)\n",
    "plt.box(False)\n",
    "plt.show()"
   ]
  },
  {
   "cell_type": "code",
   "execution_count": 35,
   "id": "34a39bd9",
   "metadata": {},
   "outputs": [],
   "source": [
    "articles.to_csv(\"../Data/Articles_data/cleaned_articles.csv\", index=False)"
   ]
  },
  {
   "cell_type": "code",
   "execution_count": 23,
   "id": "d6c34e54",
   "metadata": {},
   "outputs": [],
   "source": [
    "articles[\"date\"] = pd.to_datetime(articles[\"article_date\"])"
   ]
  },
  {
   "cell_type": "code",
   "execution_count": 25,
   "id": "18b8d99e",
   "metadata": {},
   "outputs": [
    {
     "data": {
      "text/plain": [
       "962"
      ]
     },
     "execution_count": 25,
     "metadata": {},
     "output_type": "execute_result"
    }
   ],
   "source": [
    "len(articles.article_date.unique())"
   ]
  },
  {
   "cell_type": "code",
   "execution_count": null,
   "id": "4f23c9c9",
   "metadata": {},
   "outputs": [],
   "source": []
  }
 ],
 "metadata": {
  "kernelspec": {
   "display_name": "conda_python3",
   "language": "python",
   "name": "conda_python3"
  },
  "language_info": {
   "codemirror_mode": {
    "name": "ipython",
    "version": 3
   },
   "file_extension": ".py",
   "mimetype": "text/x-python",
   "name": "python",
   "nbconvert_exporter": "python",
   "pygments_lexer": "ipython3",
   "version": "3.6.13"
  }
 },
 "nbformat": 4,
 "nbformat_minor": 5
}
