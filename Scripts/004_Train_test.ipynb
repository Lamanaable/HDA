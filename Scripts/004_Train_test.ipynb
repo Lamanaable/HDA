{
 "cells": [
  {
   "cell_type": "code",
   "execution_count": 1,
   "id": "f0b1236f",
   "metadata": {},
   "outputs": [
    {
     "name": "stderr",
     "output_type": "stream",
     "text": [
      "\n",
      "Attaching package: ‘dplyr’\n",
      "\n",
      "\n",
      "The following objects are masked from ‘package:stats’:\n",
      "\n",
      "    filter, lag\n",
      "\n",
      "\n",
      "The following objects are masked from ‘package:base’:\n",
      "\n",
      "    intersect, setdiff, setequal, union\n",
      "\n",
      "\n",
      "Warning message:\n",
      "“Your system is mis-configured: ‘/etc/localtime’ is not a symlink”\n",
      "Warning message:\n",
      "“It is strongly recommended to set envionment variable TZ to ‘Etc/UCT’ (or equivalent)”\n",
      "\n",
      "Attaching package: ‘lubridate’\n",
      "\n",
      "\n",
      "The following objects are masked from ‘package:base’:\n",
      "\n",
      "    date, intersect, setdiff, union\n",
      "\n",
      "\n"
     ]
    }
   ],
   "source": [
    "library(dplyr)\n",
    "#library(tictoc)\n",
    "library(lubridate)\n",
    "library(tidyr)\n",
    "library(ggplot2)\n",
    "#library(tsibble)\n",
    "#library(feasts)\n",
    "#library(latex2exp)\n",
    "#library(fUnitRoots)\n",
    "#library(fable)\n",
    "#library(fabletools)"
   ]
  },
  {
   "cell_type": "code",
   "execution_count": 2,
   "id": "648144ae",
   "metadata": {},
   "outputs": [
    {
     "data": {
      "text/html": [
       "<table class=\"dataframe\">\n",
       "<caption>A data.frame: 6 × 31</caption>\n",
       "<thead>\n",
       "\t<tr><th></th><th scope=col>X</th><th scope=col>chunk</th><th scope=col>abnormal</th><th scope=col>X1.hr</th><th scope=col>X2.hr</th><th scope=col>X3.hr</th><th scope=col>X4.hr</th><th scope=col>X5.hr</th><th scope=col>X6.hr</th><th scope=col>X7.hr</th><th scope=col>⋯</th><th scope=col>X19.hr</th><th scope=col>X20.hr</th><th scope=col>X21.hr</th><th scope=col>X22.hr</th><th scope=col>X23.hr</th><th scope=col>X24.hr</th><th scope=col>X25.hr</th><th scope=col>X26.hr</th><th scope=col>X27.hr</th><th scope=col>X28.hr</th></tr>\n",
       "\t<tr><th></th><th scope=col>&lt;int&gt;</th><th scope=col>&lt;dttm&gt;</th><th scope=col>&lt;int&gt;</th><th scope=col>&lt;dbl&gt;</th><th scope=col>&lt;dbl&gt;</th><th scope=col>&lt;dbl&gt;</th><th scope=col>&lt;dbl&gt;</th><th scope=col>&lt;dbl&gt;</th><th scope=col>&lt;dbl&gt;</th><th scope=col>&lt;dbl&gt;</th><th scope=col>⋯</th><th scope=col>&lt;dbl&gt;</th><th scope=col>&lt;dbl&gt;</th><th scope=col>&lt;dbl&gt;</th><th scope=col>&lt;dbl&gt;</th><th scope=col>&lt;dbl&gt;</th><th scope=col>&lt;dbl&gt;</th><th scope=col>&lt;dbl&gt;</th><th scope=col>&lt;dbl&gt;</th><th scope=col>&lt;dbl&gt;</th><th scope=col>&lt;dbl&gt;</th></tr>\n",
       "</thead>\n",
       "<tbody>\n",
       "\t<tr><th scope=row>1</th><td>29</td><td>2018-10-26 19:00:00</td><td>0</td><td>-0.6010679</td><td>-1.3726190</td><td>-0.0247520</td><td>-0.4374796</td><td> 0.7108556</td><td> 1.8196562</td><td> 0.3108767</td><td>⋯</td><td>-0.5509926</td><td> 0.3432454</td><td>-0.5376402</td><td> 0.1196872</td><td> 0.7105955</td><td>-0.9455626</td><td>-0.9937495</td><td>-1.4766641</td><td>-2.2057631</td><td>-1.4095363</td></tr>\n",
       "\t<tr><th scope=row>2</th><td>30</td><td>2018-10-26 20:00:00</td><td>0</td><td> 0.4171159</td><td>-0.6010679</td><td>-1.3726190</td><td>-0.0247520</td><td>-0.4374796</td><td> 0.7108556</td><td> 1.8196562</td><td>⋯</td><td> 0.1497921</td><td>-0.5509926</td><td> 0.3432454</td><td>-0.5376402</td><td> 0.1196872</td><td> 0.7105955</td><td>-0.9455626</td><td>-0.9937495</td><td>-1.4766641</td><td>-2.2057631</td></tr>\n",
       "\t<tr><th scope=row>3</th><td>31</td><td>2018-10-26 21:00:00</td><td>0</td><td>-0.4045199</td><td> 0.4171159</td><td>-0.6010679</td><td>-1.3726190</td><td>-0.0247520</td><td>-0.4374796</td><td> 0.7108556</td><td>⋯</td><td>-0.0304761</td><td> 0.1497921</td><td>-0.5509926</td><td> 0.3432454</td><td>-0.5376402</td><td> 0.1196872</td><td> 0.7105955</td><td>-0.9455626</td><td>-0.9937495</td><td>-1.4766641</td></tr>\n",
       "\t<tr><th scope=row>4</th><td>32</td><td>2018-10-26 22:00:00</td><td>0</td><td>-0.9145045</td><td>-0.4045199</td><td> 0.4171159</td><td>-0.6010679</td><td>-1.3726190</td><td>-0.0247520</td><td>-0.4374796</td><td>⋯</td><td>-0.6507914</td><td>-0.0304761</td><td> 0.1497921</td><td>-0.5509926</td><td> 0.3432454</td><td>-0.5376402</td><td> 0.1196872</td><td> 0.7105955</td><td>-0.9455626</td><td>-0.9937495</td></tr>\n",
       "\t<tr><th scope=row>5</th><td>33</td><td>2018-10-26 23:00:00</td><td>0</td><td>-0.3375264</td><td>-0.9145045</td><td>-0.4045199</td><td> 0.4171159</td><td>-0.6010679</td><td>-1.3726190</td><td>-0.0247520</td><td>⋯</td><td> 1.4907880</td><td>-0.6507914</td><td>-0.0304761</td><td> 0.1497921</td><td>-0.5509926</td><td> 0.3432454</td><td>-0.5376402</td><td> 0.1196872</td><td> 0.7105955</td><td>-0.9455626</td></tr>\n",
       "\t<tr><th scope=row>6</th><td>34</td><td>2018-10-27 00:00:00</td><td>0</td><td> 1.0419964</td><td>-0.3375264</td><td>-0.9145045</td><td>-0.4045199</td><td> 0.4171159</td><td>-0.6010679</td><td>-1.3726190</td><td>⋯</td><td>-1.1927199</td><td> 1.4907880</td><td>-0.6507914</td><td>-0.0304761</td><td> 0.1497921</td><td>-0.5509926</td><td> 0.3432454</td><td>-0.5376402</td><td> 0.1196872</td><td> 0.7105955</td></tr>\n",
       "</tbody>\n",
       "</table>\n"
      ],
      "text/latex": [
       "A data.frame: 6 × 31\n",
       "\\begin{tabular}{r|lllllllllllllllllllll}\n",
       "  & X & chunk & abnormal & X1.hr & X2.hr & X3.hr & X4.hr & X5.hr & X6.hr & X7.hr & ⋯ & X19.hr & X20.hr & X21.hr & X22.hr & X23.hr & X24.hr & X25.hr & X26.hr & X27.hr & X28.hr\\\\\n",
       "  & <int> & <dttm> & <int> & <dbl> & <dbl> & <dbl> & <dbl> & <dbl> & <dbl> & <dbl> & ⋯ & <dbl> & <dbl> & <dbl> & <dbl> & <dbl> & <dbl> & <dbl> & <dbl> & <dbl> & <dbl>\\\\\n",
       "\\hline\n",
       "\t1 & 29 & 2018-10-26 19:00:00 & 0 & -0.6010679 & -1.3726190 & -0.0247520 & -0.4374796 &  0.7108556 &  1.8196562 &  0.3108767 & ⋯ & -0.5509926 &  0.3432454 & -0.5376402 &  0.1196872 &  0.7105955 & -0.9455626 & -0.9937495 & -1.4766641 & -2.2057631 & -1.4095363\\\\\n",
       "\t2 & 30 & 2018-10-26 20:00:00 & 0 &  0.4171159 & -0.6010679 & -1.3726190 & -0.0247520 & -0.4374796 &  0.7108556 &  1.8196562 & ⋯ &  0.1497921 & -0.5509926 &  0.3432454 & -0.5376402 &  0.1196872 &  0.7105955 & -0.9455626 & -0.9937495 & -1.4766641 & -2.2057631\\\\\n",
       "\t3 & 31 & 2018-10-26 21:00:00 & 0 & -0.4045199 &  0.4171159 & -0.6010679 & -1.3726190 & -0.0247520 & -0.4374796 &  0.7108556 & ⋯ & -0.0304761 &  0.1497921 & -0.5509926 &  0.3432454 & -0.5376402 &  0.1196872 &  0.7105955 & -0.9455626 & -0.9937495 & -1.4766641\\\\\n",
       "\t4 & 32 & 2018-10-26 22:00:00 & 0 & -0.9145045 & -0.4045199 &  0.4171159 & -0.6010679 & -1.3726190 & -0.0247520 & -0.4374796 & ⋯ & -0.6507914 & -0.0304761 &  0.1497921 & -0.5509926 &  0.3432454 & -0.5376402 &  0.1196872 &  0.7105955 & -0.9455626 & -0.9937495\\\\\n",
       "\t5 & 33 & 2018-10-26 23:00:00 & 0 & -0.3375264 & -0.9145045 & -0.4045199 &  0.4171159 & -0.6010679 & -1.3726190 & -0.0247520 & ⋯ &  1.4907880 & -0.6507914 & -0.0304761 &  0.1497921 & -0.5509926 &  0.3432454 & -0.5376402 &  0.1196872 &  0.7105955 & -0.9455626\\\\\n",
       "\t6 & 34 & 2018-10-27 00:00:00 & 0 &  1.0419964 & -0.3375264 & -0.9145045 & -0.4045199 &  0.4171159 & -0.6010679 & -1.3726190 & ⋯ & -1.1927199 &  1.4907880 & -0.6507914 & -0.0304761 &  0.1497921 & -0.5509926 &  0.3432454 & -0.5376402 &  0.1196872 &  0.7105955\\\\\n",
       "\\end{tabular}\n"
      ],
      "text/markdown": [
       "\n",
       "A data.frame: 6 × 31\n",
       "\n",
       "| <!--/--> | X &lt;int&gt; | chunk &lt;dttm&gt; | abnormal &lt;int&gt; | X1.hr &lt;dbl&gt; | X2.hr &lt;dbl&gt; | X3.hr &lt;dbl&gt; | X4.hr &lt;dbl&gt; | X5.hr &lt;dbl&gt; | X6.hr &lt;dbl&gt; | X7.hr &lt;dbl&gt; | ⋯ ⋯ | X19.hr &lt;dbl&gt; | X20.hr &lt;dbl&gt; | X21.hr &lt;dbl&gt; | X22.hr &lt;dbl&gt; | X23.hr &lt;dbl&gt; | X24.hr &lt;dbl&gt; | X25.hr &lt;dbl&gt; | X26.hr &lt;dbl&gt; | X27.hr &lt;dbl&gt; | X28.hr &lt;dbl&gt; |\n",
       "|---|---|---|---|---|---|---|---|---|---|---|---|---|---|---|---|---|---|---|---|---|---|\n",
       "| 1 | 29 | 2018-10-26 19:00:00 | 0 | -0.6010679 | -1.3726190 | -0.0247520 | -0.4374796 |  0.7108556 |  1.8196562 |  0.3108767 | ⋯ | -0.5509926 |  0.3432454 | -0.5376402 |  0.1196872 |  0.7105955 | -0.9455626 | -0.9937495 | -1.4766641 | -2.2057631 | -1.4095363 |\n",
       "| 2 | 30 | 2018-10-26 20:00:00 | 0 |  0.4171159 | -0.6010679 | -1.3726190 | -0.0247520 | -0.4374796 |  0.7108556 |  1.8196562 | ⋯ |  0.1497921 | -0.5509926 |  0.3432454 | -0.5376402 |  0.1196872 |  0.7105955 | -0.9455626 | -0.9937495 | -1.4766641 | -2.2057631 |\n",
       "| 3 | 31 | 2018-10-26 21:00:00 | 0 | -0.4045199 |  0.4171159 | -0.6010679 | -1.3726190 | -0.0247520 | -0.4374796 |  0.7108556 | ⋯ | -0.0304761 |  0.1497921 | -0.5509926 |  0.3432454 | -0.5376402 |  0.1196872 |  0.7105955 | -0.9455626 | -0.9937495 | -1.4766641 |\n",
       "| 4 | 32 | 2018-10-26 22:00:00 | 0 | -0.9145045 | -0.4045199 |  0.4171159 | -0.6010679 | -1.3726190 | -0.0247520 | -0.4374796 | ⋯ | -0.6507914 | -0.0304761 |  0.1497921 | -0.5509926 |  0.3432454 | -0.5376402 |  0.1196872 |  0.7105955 | -0.9455626 | -0.9937495 |\n",
       "| 5 | 33 | 2018-10-26 23:00:00 | 0 | -0.3375264 | -0.9145045 | -0.4045199 |  0.4171159 | -0.6010679 | -1.3726190 | -0.0247520 | ⋯ |  1.4907880 | -0.6507914 | -0.0304761 |  0.1497921 | -0.5509926 |  0.3432454 | -0.5376402 |  0.1196872 |  0.7105955 | -0.9455626 |\n",
       "| 6 | 34 | 2018-10-27 00:00:00 | 0 |  1.0419964 | -0.3375264 | -0.9145045 | -0.4045199 |  0.4171159 | -0.6010679 | -1.3726190 | ⋯ | -1.1927199 |  1.4907880 | -0.6507914 | -0.0304761 |  0.1497921 | -0.5509926 |  0.3432454 | -0.5376402 |  0.1196872 |  0.7105955 |\n",
       "\n"
      ],
      "text/plain": [
       "  X  chunk               abnormal X1.hr      X2.hr      X3.hr      X4.hr     \n",
       "1 29 2018-10-26 19:00:00 0        -0.6010679 -1.3726190 -0.0247520 -0.4374796\n",
       "2 30 2018-10-26 20:00:00 0         0.4171159 -0.6010679 -1.3726190 -0.0247520\n",
       "3 31 2018-10-26 21:00:00 0        -0.4045199  0.4171159 -0.6010679 -1.3726190\n",
       "4 32 2018-10-26 22:00:00 0        -0.9145045 -0.4045199  0.4171159 -0.6010679\n",
       "5 33 2018-10-26 23:00:00 0        -0.3375264 -0.9145045 -0.4045199  0.4171159\n",
       "6 34 2018-10-27 00:00:00 0         1.0419964 -0.3375264 -0.9145045 -0.4045199\n",
       "  X5.hr      X6.hr      X7.hr      ⋯ X19.hr     X20.hr     X21.hr    \n",
       "1  0.7108556  1.8196562  0.3108767 ⋯ -0.5509926  0.3432454 -0.5376402\n",
       "2 -0.4374796  0.7108556  1.8196562 ⋯  0.1497921 -0.5509926  0.3432454\n",
       "3 -0.0247520 -0.4374796  0.7108556 ⋯ -0.0304761  0.1497921 -0.5509926\n",
       "4 -1.3726190 -0.0247520 -0.4374796 ⋯ -0.6507914 -0.0304761  0.1497921\n",
       "5 -0.6010679 -1.3726190 -0.0247520 ⋯  1.4907880 -0.6507914 -0.0304761\n",
       "6  0.4171159 -0.6010679 -1.3726190 ⋯ -1.1927199  1.4907880 -0.6507914\n",
       "  X22.hr     X23.hr     X24.hr     X25.hr     X26.hr     X27.hr     X28.hr    \n",
       "1  0.1196872  0.7105955 -0.9455626 -0.9937495 -1.4766641 -2.2057631 -1.4095363\n",
       "2 -0.5376402  0.1196872  0.7105955 -0.9455626 -0.9937495 -1.4766641 -2.2057631\n",
       "3  0.3432454 -0.5376402  0.1196872  0.7105955 -0.9455626 -0.9937495 -1.4766641\n",
       "4 -0.5509926  0.3432454 -0.5376402  0.1196872  0.7105955 -0.9455626 -0.9937495\n",
       "5  0.1497921 -0.5509926  0.3432454 -0.5376402  0.1196872  0.7105955 -0.9455626\n",
       "6 -0.0304761  0.1497921 -0.5509926  0.3432454 -0.5376402  0.1196872  0.7105955"
      ]
     },
     "metadata": {},
     "output_type": "display_data"
    }
   ],
   "source": [
    "df <- read.csv(\"../Data/standardised_dt_df.csv\")\n",
    "#df <- readRDS('../Data/Full_data.rds')\n",
    "df <- df %>% mutate(chunk = as.POSIXct(chunk, format=\"%Y-%m-%d %H:%M:%S\",tz=\"GMT\"))\n",
    "head(df)"
   ]
  },
  {
   "cell_type": "code",
   "execution_count": 3,
   "id": "a135cde5",
   "metadata": {},
   "outputs": [
    {
     "data": {
      "text/html": [
       "<table class=\"dataframe\">\n",
       "<caption>A data.frame: 6 × 65</caption>\n",
       "<thead>\n",
       "\t<tr><th></th><th scope=col>chunk</th><th scope=col>texts</th><th scope=col>temp_weighted</th><th scope=col>cloud_cover_weighted</th><th scope=col>rainfall_weighted</th><th scope=col>polarity</th><th scope=col>standardised_texts</th><th scope=col>abnormal</th><th scope=col>daily_policy_index</th><th scope=col>1_hr_std</th><th scope=col>⋯</th><th scope=col>19_hr</th><th scope=col>20_hr</th><th scope=col>21_hr</th><th scope=col>22_hr</th><th scope=col>23_hr</th><th scope=col>24_hr</th><th scope=col>25_hr</th><th scope=col>26_hr</th><th scope=col>27_hr</th><th scope=col>28_hr</th></tr>\n",
       "\t<tr><th></th><th scope=col>&lt;dttm&gt;</th><th scope=col>&lt;int&gt;</th><th scope=col>&lt;dbl&gt;</th><th scope=col>&lt;dbl&gt;</th><th scope=col>&lt;dbl&gt;</th><th scope=col>&lt;chr&gt;</th><th scope=col>&lt;dbl&gt;</th><th scope=col>&lt;int&gt;</th><th scope=col>&lt;dbl&gt;</th><th scope=col>&lt;dbl&gt;</th><th scope=col>⋯</th><th scope=col>&lt;int&gt;</th><th scope=col>&lt;int&gt;</th><th scope=col>&lt;int&gt;</th><th scope=col>&lt;int&gt;</th><th scope=col>&lt;int&gt;</th><th scope=col>&lt;int&gt;</th><th scope=col>&lt;int&gt;</th><th scope=col>&lt;int&gt;</th><th scope=col>&lt;int&gt;</th><th scope=col>&lt;int&gt;</th></tr>\n",
       "</thead>\n",
       "<tbody>\n",
       "\t<tr><th scope=row>31681</th><td>2022-06-06 15:00:00</td><td> 70</td><td>15.62318</td><td>65.29326</td><td>0.00000000</td><td>0.126058810840715</td><td>-0.09154173</td><td>0</td><td>237.37</td><td>-0.05332543</td><td>⋯</td><td>204</td><td>159</td><td>113</td><td>100</td><td> 99</td><td> 89</td><td> 75</td><td> 82</td><td> 67</td><td>41</td></tr>\n",
       "\t<tr><th scope=row>31682</th><td>2022-06-06 16:00:00</td><td> 89</td><td>15.69936</td><td>68.28912</td><td>0.11110657</td><td>0.126058810840715</td><td> 0.57388690</td><td>0</td><td>237.37</td><td>-0.09154173</td><td>⋯</td><td>190</td><td>204</td><td>159</td><td>113</td><td>100</td><td> 99</td><td> 89</td><td> 75</td><td> 82</td><td>67</td></tr>\n",
       "\t<tr><th scope=row>31683</th><td>2022-06-06 17:00:00</td><td>104</td><td>15.57503</td><td>65.45153</td><td>0.04970403</td><td>0.126058810840715</td><td> 1.25701812</td><td>0</td><td>237.37</td><td> 0.57388690</td><td>⋯</td><td>222</td><td>190</td><td>204</td><td>159</td><td>113</td><td>100</td><td> 99</td><td> 89</td><td> 75</td><td>82</td></tr>\n",
       "\t<tr><th scope=row>31684</th><td>2022-06-06 18:00:00</td><td>124</td><td>15.46761</td><td>65.15089</td><td>0.00964676</td><td>0.126058810840715</td><td> 1.72717183</td><td>0</td><td>237.37</td><td> 1.25701812</td><td>⋯</td><td>230</td><td>222</td><td>190</td><td>204</td><td>159</td><td>113</td><td>100</td><td> 99</td><td> 89</td><td>75</td></tr>\n",
       "\t<tr><th scope=row>31685</th><td>2022-06-06 19:00:00</td><td>140</td><td>15.05260</td><td>62.54760</td><td>0.03686618</td><td>0.126058810840715</td><td> 0.85250885</td><td>0</td><td>237.37</td><td> 1.72717183</td><td>⋯</td><td>181</td><td>230</td><td>222</td><td>190</td><td>204</td><td>159</td><td>113</td><td>100</td><td> 99</td><td>89</td></tr>\n",
       "\t<tr><th scope=row>31686</th><td>2022-06-06 20:00:00</td><td>188</td><td>14.23738</td><td>60.13144</td><td>0.00000000</td><td>0.126058810840715</td><td> 1.29353656</td><td>0</td><td>237.37</td><td> 0.85250885</td><td>⋯</td><td>110</td><td>181</td><td>230</td><td>222</td><td>190</td><td>204</td><td>159</td><td>113</td><td>100</td><td>99</td></tr>\n",
       "</tbody>\n",
       "</table>\n"
      ],
      "text/latex": [
       "A data.frame: 6 × 65\n",
       "\\begin{tabular}{r|lllllllllllllllllllll}\n",
       "  & chunk & texts & temp\\_weighted & cloud\\_cover\\_weighted & rainfall\\_weighted & polarity & standardised\\_texts & abnormal & daily\\_policy\\_index & 1\\_hr\\_std & ⋯ & 19\\_hr & 20\\_hr & 21\\_hr & 22\\_hr & 23\\_hr & 24\\_hr & 25\\_hr & 26\\_hr & 27\\_hr & 28\\_hr\\\\\n",
       "  & <dttm> & <int> & <dbl> & <dbl> & <dbl> & <chr> & <dbl> & <int> & <dbl> & <dbl> & ⋯ & <int> & <int> & <int> & <int> & <int> & <int> & <int> & <int> & <int> & <int>\\\\\n",
       "\\hline\n",
       "\t31681 & 2022-06-06 15:00:00 &  70 & 15.62318 & 65.29326 & 0.00000000 & 0.126058810840715 & -0.09154173 & 0 & 237.37 & -0.05332543 & ⋯ & 204 & 159 & 113 & 100 &  99 &  89 &  75 &  82 &  67 & 41\\\\\n",
       "\t31682 & 2022-06-06 16:00:00 &  89 & 15.69936 & 68.28912 & 0.11110657 & 0.126058810840715 &  0.57388690 & 0 & 237.37 & -0.09154173 & ⋯ & 190 & 204 & 159 & 113 & 100 &  99 &  89 &  75 &  82 & 67\\\\\n",
       "\t31683 & 2022-06-06 17:00:00 & 104 & 15.57503 & 65.45153 & 0.04970403 & 0.126058810840715 &  1.25701812 & 0 & 237.37 &  0.57388690 & ⋯ & 222 & 190 & 204 & 159 & 113 & 100 &  99 &  89 &  75 & 82\\\\\n",
       "\t31684 & 2022-06-06 18:00:00 & 124 & 15.46761 & 65.15089 & 0.00964676 & 0.126058810840715 &  1.72717183 & 0 & 237.37 &  1.25701812 & ⋯ & 230 & 222 & 190 & 204 & 159 & 113 & 100 &  99 &  89 & 75\\\\\n",
       "\t31685 & 2022-06-06 19:00:00 & 140 & 15.05260 & 62.54760 & 0.03686618 & 0.126058810840715 &  0.85250885 & 0 & 237.37 &  1.72717183 & ⋯ & 181 & 230 & 222 & 190 & 204 & 159 & 113 & 100 &  99 & 89\\\\\n",
       "\t31686 & 2022-06-06 20:00:00 & 188 & 14.23738 & 60.13144 & 0.00000000 & 0.126058810840715 &  1.29353656 & 0 & 237.37 &  0.85250885 & ⋯ & 110 & 181 & 230 & 222 & 190 & 204 & 159 & 113 & 100 & 99\\\\\n",
       "\\end{tabular}\n"
      ],
      "text/markdown": [
       "\n",
       "A data.frame: 6 × 65\n",
       "\n",
       "| <!--/--> | chunk &lt;dttm&gt; | texts &lt;int&gt; | temp_weighted &lt;dbl&gt; | cloud_cover_weighted &lt;dbl&gt; | rainfall_weighted &lt;dbl&gt; | polarity &lt;chr&gt; | standardised_texts &lt;dbl&gt; | abnormal &lt;int&gt; | daily_policy_index &lt;dbl&gt; | 1_hr_std &lt;dbl&gt; | ⋯ ⋯ | 19_hr &lt;int&gt; | 20_hr &lt;int&gt; | 21_hr &lt;int&gt; | 22_hr &lt;int&gt; | 23_hr &lt;int&gt; | 24_hr &lt;int&gt; | 25_hr &lt;int&gt; | 26_hr &lt;int&gt; | 27_hr &lt;int&gt; | 28_hr &lt;int&gt; |\n",
       "|---|---|---|---|---|---|---|---|---|---|---|---|---|---|---|---|---|---|---|---|---|---|\n",
       "| 31681 | 2022-06-06 15:00:00 |  70 | 15.62318 | 65.29326 | 0.00000000 | 0.126058810840715 | -0.09154173 | 0 | 237.37 | -0.05332543 | ⋯ | 204 | 159 | 113 | 100 |  99 |  89 |  75 |  82 |  67 | 41 |\n",
       "| 31682 | 2022-06-06 16:00:00 |  89 | 15.69936 | 68.28912 | 0.11110657 | 0.126058810840715 |  0.57388690 | 0 | 237.37 | -0.09154173 | ⋯ | 190 | 204 | 159 | 113 | 100 |  99 |  89 |  75 |  82 | 67 |\n",
       "| 31683 | 2022-06-06 17:00:00 | 104 | 15.57503 | 65.45153 | 0.04970403 | 0.126058810840715 |  1.25701812 | 0 | 237.37 |  0.57388690 | ⋯ | 222 | 190 | 204 | 159 | 113 | 100 |  99 |  89 |  75 | 82 |\n",
       "| 31684 | 2022-06-06 18:00:00 | 124 | 15.46761 | 65.15089 | 0.00964676 | 0.126058810840715 |  1.72717183 | 0 | 237.37 |  1.25701812 | ⋯ | 230 | 222 | 190 | 204 | 159 | 113 | 100 |  99 |  89 | 75 |\n",
       "| 31685 | 2022-06-06 19:00:00 | 140 | 15.05260 | 62.54760 | 0.03686618 | 0.126058810840715 |  0.85250885 | 0 | 237.37 |  1.72717183 | ⋯ | 181 | 230 | 222 | 190 | 204 | 159 | 113 | 100 |  99 | 89 |\n",
       "| 31686 | 2022-06-06 20:00:00 | 188 | 14.23738 | 60.13144 | 0.00000000 | 0.126058810840715 |  1.29353656 | 0 | 237.37 |  0.85250885 | ⋯ | 110 | 181 | 230 | 222 | 190 | 204 | 159 | 113 | 100 | 99 |\n",
       "\n"
      ],
      "text/plain": [
       "      chunk               texts temp_weighted cloud_cover_weighted\n",
       "31681 2022-06-06 15:00:00  70   15.62318      65.29326            \n",
       "31682 2022-06-06 16:00:00  89   15.69936      68.28912            \n",
       "31683 2022-06-06 17:00:00 104   15.57503      65.45153            \n",
       "31684 2022-06-06 18:00:00 124   15.46761      65.15089            \n",
       "31685 2022-06-06 19:00:00 140   15.05260      62.54760            \n",
       "31686 2022-06-06 20:00:00 188   14.23738      60.13144            \n",
       "      rainfall_weighted polarity          standardised_texts abnormal\n",
       "31681 0.00000000        0.126058810840715 -0.09154173        0       \n",
       "31682 0.11110657        0.126058810840715  0.57388690        0       \n",
       "31683 0.04970403        0.126058810840715  1.25701812        0       \n",
       "31684 0.00964676        0.126058810840715  1.72717183        0       \n",
       "31685 0.03686618        0.126058810840715  0.85250885        0       \n",
       "31686 0.00000000        0.126058810840715  1.29353656        0       \n",
       "      daily_policy_index 1_hr_std    ⋯ 19_hr 20_hr 21_hr 22_hr 23_hr 24_hr\n",
       "31681 237.37             -0.05332543 ⋯ 204   159   113   100    99    89  \n",
       "31682 237.37             -0.09154173 ⋯ 190   204   159   113   100    99  \n",
       "31683 237.37              0.57388690 ⋯ 222   190   204   159   113   100  \n",
       "31684 237.37              1.25701812 ⋯ 230   222   190   204   159   113  \n",
       "31685 237.37              1.72717183 ⋯ 181   230   222   190   204   159  \n",
       "31686 237.37              0.85250885 ⋯ 110   181   230   222   190   204  \n",
       "      25_hr 26_hr 27_hr 28_hr\n",
       "31681  75    82    67   41   \n",
       "31682  89    75    82   67   \n",
       "31683  99    89    75   82   \n",
       "31684 100    99    89   75   \n",
       "31685 113   100    99   89   \n",
       "31686 159   113   100   99   "
      ]
     },
     "metadata": {},
     "output_type": "display_data"
    }
   ],
   "source": [
    "tail(df)"
   ]
  },
  {
   "cell_type": "code",
   "execution_count": 4,
   "id": "8efde9b7",
   "metadata": {},
   "outputs": [],
   "source": [
    "tstraintest <- function(ts, trainstart, teststart, testend, ex) {\n",
    "  train <- ts %>% dplyr::filter(chunk >= trainstart & chunk < teststart)\n",
    "  test <- ts %>% dplyr::filter(chunk >= teststart & chunk < testend)\n",
    "  if (ex == \"expost\") {\n",
    "    print(\"expost set complete\")\n",
    "  } else if (ex == \"exante\") {\n",
    "    # Get average twitter and covid values from last 24 hrs\n",
    "    twitter_covid <- train[(dim(train)[1]-24):dim(train)[1],] %>% as.data.frame %>% # last 24 hrs\n",
    "      mutate(year = floor_date(chunk, \"year\")) %>%\n",
    "      group_by(year) %>% summarise(tweet_avg = mean(tweets),\n",
    "                                   retweet_avg = mean(retweets),\n",
    "                                   likes_avg = mean(likes),\n",
    "                                   covid_cases = mean(covid_cases),\n",
    "                                   covid_deaths = mean(covid_deaths),\n",
    "                                   covid_announcements = mean(covid_announcements))\n",
    "    # Get average weather from full history prior to test set\n",
    "    weather <- read_csv(\"openweather_2010-_2021_snarestone_uk.csv\") %>% dplyr::select(dt,dt_iso, temp, clouds_all, rain_1h)\n",
    "    weather$chunk <- as.POSIXct(weather$dt, tz = \"GMT\", origin=\"1970-01-01\")\n",
    "    weather <- weather %>% transmute(chunk, temp, clouds = clouds_all, rainfall = rain_1h) %>% dplyr::filter(chunk<teststart)\n",
    "    weather$rainfall <- ifelse(is.na(weather$rainfall),0,weather$rainfall)\n",
    "    weather <- weather %>% mutate(daymonthhour = paste(substr(floor_date(chunk, \"days\"),9,10),substr(floor_date(chunk, \"months\"),6,7),substr(chunk,12,13) ))\n",
    "     \n",
    "    hourly <- weather %>% group_by(daymonthhour) %>% summarise(temp = mean(temp),\n",
    "                                                               clouds = mean(clouds),\n",
    "                                                               rainfall = mean(rainfall),)\n",
    "    daily_temp <- weather %>% mutate(day = paste(substr(floor_date(chunk, \"days\"),9,10),substr(floor_date(chunk, \"months\"),6,7)))\n",
    "    daily_temp <- daily_temp %>% group_by(day) %>% summarise(daily_temp = mean(temp))\n",
    "    rm(weather)\n",
    "    \n",
    "    # Merge into a test set\n",
    "    base_test <- test %>% dplyr::select(chunk,texts,localtime,weekday,school_hols,exam_results_week,bank_holiday)\n",
    "    rm(test)\n",
    "    base_test <- base_test %>% mutate(daymonthhour = paste(substr(floor_date(chunk, \"days\"),9,10),substr(floor_date(chunk, \"months\"),6,7),substr(chunk,12,13) ))\n",
    "    base_test <- merge(base_test,hourly, by=\"daymonthhour\",all.x=TRUE) %>% dplyr::select(-daymonthhour)\n",
    "    rm(hourly)\n",
    "    base_test <- base_test %>% mutate(day = paste(substr(floor_date(chunk, \"days\"),9,10),substr(floor_date(chunk, \"months\"),6,7)))\n",
    "    base_test <- merge(base_test,daily_temp, by=\"day\",all.x=TRUE) %>% dplyr::select(-day)\n",
    "    rm(daily_temp)\n",
    "    base_test <- base_test %>% mutate(year = floor_date(chunk, \"year\"))\n",
    "    base_test <- merge(base_test,twitter_covid, by=\"year\",all.x=TRUE) %>% dplyr::select(-year)\n",
    "    rm(twitter_covid)\n",
    "    test <- as_tsibble(base_test,index=chunk)\n",
    "    rm(base_test)\n",
    "    \n",
    "    train <- train %>% dplyr::select(-c(tweets,retweets,likes))\n",
    "    \n",
    "    print(\"exante set complete\")\n",
    "  } else {\n",
    "    print(\"ex command is invalid. Please select 'expost' or 'exante' as an input. Expost simply splits into train and test whereas exante only includes simple forecasts for exogenous regressors.\")\n",
    "  }\n",
    "  train$traintest <- rep(0, dim(train)[1])\n",
    "  test$traintest <- rep(1, dim(test)[1])\n",
    "  output <- rbind(train, test)\n",
    "  return(output)\n",
    "}"
   ]
  },
  {
   "cell_type": "code",
   "execution_count": 4,
   "id": "bf5c6de1",
   "metadata": {},
   "outputs": [
    {
     "data": {
      "text/html": [
       "31658"
      ],
      "text/latex": [
       "31658"
      ],
      "text/markdown": [
       "31658"
      ],
      "text/plain": [
       "[1] 31658"
      ]
     },
     "metadata": {},
     "output_type": "display_data"
    }
   ],
   "source": [
    "#Standard train test split\n",
    "train_test <- sample(c(\"train\",\"test\"), nrow(df), replace=TRUE, prob=c(0.7,0.3))\n",
    "length(train_test)\n",
    "df_standard_random <- df\n",
    "df_standard_random$train_test <- train_test"
   ]
  },
  {
   "cell_type": "code",
   "execution_count": 5,
   "id": "b09af4a9",
   "metadata": {},
   "outputs": [],
   "source": [
    "write.csv(df_standard_random, \"../Data/Full_train_test_split/df_full_random_split.csv\")"
   ]
  },
  {
   "cell_type": "code",
   "execution_count": 3,
   "id": "e98a2e21",
   "metadata": {},
   "outputs": [],
   "source": [
    "df_standardised_end_test <- df\n",
    "df_standardised_end_test$train_test <- ifelse(df_standardised_end_test$chunk <= \"2021-12-31 23:00:00\", \"train\",\"test\")"
   ]
  },
  {
   "cell_type": "code",
   "execution_count": 6,
   "id": "6a35962e",
   "metadata": {},
   "outputs": [],
   "source": [
    "write.csv(df_standardised_end_test, \"../Data/Full_train_test_split/df_full_end_test.csv\")"
   ]
  },
  {
   "cell_type": "code",
   "execution_count": 4,
   "id": "5aa8b959",
   "metadata": {},
   "outputs": [],
   "source": [
    "#write.csv(df_standardised_end_test, \"../Data/df_standardised_end_test_6hr.csv\")"
   ]
  },
  {
   "cell_type": "code",
   "execution_count": 4,
   "id": "183c0c5b",
   "metadata": {},
   "outputs": [],
   "source": [
    "write.csv(df_standardised_end_test, \"../Data/Full_train_test_split/df_full_end_test_classification.csv\")"
   ]
  },
  {
   "cell_type": "code",
   "execution_count": null,
   "id": "8396c8d2",
   "metadata": {},
   "outputs": [],
   "source": []
  }
 ],
 "metadata": {
  "kernelspec": {
   "display_name": "R",
   "language": "R",
   "name": "ir"
  },
  "language_info": {
   "codemirror_mode": "r",
   "file_extension": ".r",
   "mimetype": "text/x-r-source",
   "name": "R",
   "pygments_lexer": "r",
   "version": "4.1.3"
  }
 },
 "nbformat": 4,
 "nbformat_minor": 5
}
